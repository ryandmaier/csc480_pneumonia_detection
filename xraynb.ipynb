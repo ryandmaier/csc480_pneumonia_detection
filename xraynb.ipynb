{
 "cells": [
  {
   "cell_type": "markdown",
   "metadata": {},
   "source": [
    "#From \"Diagnosing Pneumonia from X-Ray Images Using Convolutional Neural Network\"\n",
    "\n",
    "###https://towardsdatascience.com/diagnosing-pneumonia-from-x-ray-images-using-convolutional-neural-network-fe9975cab808"
   ]
  },
  {
   "cell_type": "code",
   "execution_count": 106,
   "metadata": {},
   "outputs": [
    {
     "name": "stdout",
     "output_type": "stream",
     "text": [
      "4696 578 582\n",
      "1282 3414\n",
      "155 427\n",
      "146 432\n"
     ]
    }
   ],
   "source": [
    "\n",
    "# from cgi import test\n",
    "# import os\n",
    "# import glob\n",
    "# import numpy as np\n",
    "\n",
    "# base_dir = 'chest_xray/'\n",
    "\n",
    "# train_dir = os.path.join(base_dir, 'train')\n",
    "# validation_dir = os.path.join(base_dir, 'val')\n",
    "# test_dir = os.path.join(base_dir, 'test')\n",
    "\n",
    "# train_NORMAL_dir = os.path.join(train_dir, 'NORMAL')\n",
    "# train_PNEUMONIA_dir = os.path.join(train_dir, 'PNEUMONIA')\n",
    "\n",
    "# validation_NORMAL_dir = os.path.join(validation_dir, 'NORMAL')\n",
    "# validation_PNEUMONIA_dir = os.path.join(validation_dir, 'PNEUMONIA')\n",
    "\n",
    "# test_NORMAL_dir = os.path.join(test_dir, 'NORMAL')\n",
    "# test_PNEUMONIA_dir = os.path.join(test_dir, 'PNEUMONIA')\n",
    "\n",
    "# train_NORMAL_fnames = os.listdir(train_NORMAL_dir)\n",
    "# train_PNEUMONIA_fnames = os.listdir(train_PNEUMONIA_dir)\n",
    "\n",
    "# validation_NORMAL_fnames = os.listdir(validation_NORMAL_dir)\n",
    "# validation_PNEUMONIA_fnames = os.listdir(validation_PNEUMONIA_dir)\n",
    "\n",
    "# test_NORMAL_fnames = os.listdir(test_NORMAL_dir)\n",
    "# test_PNEUMONIA_fnames = os.listdir(test_PNEUMONIA_dir)\n",
    "\n",
    "# n_train = len(train_NORMAL_fnames) + len(train_PNEUMONIA_fnames)\n",
    "# n_validation = len(validation_NORMAL_fnames) + len(validation_PNEUMONIA_fnames)\n",
    "# n_test = len(test_NORMAL_fnames) + len(test_PNEUMONIA_fnames)\n",
    "\n",
    "# print(n_train, n_validation, n_test)\n",
    "# print(len(train_NORMAL_fnames),len(train_PNEUMONIA_fnames))\n",
    "# print(len(test_NORMAL_fnames),len(test_PNEUMONIA_fnames))\n",
    "# print(len(validation_NORMAL_fnames),len(validation_PNEUMONIA_fnames))"
   ]
  },
  {
   "cell_type": "code",
   "execution_count": 94,
   "metadata": {},
   "outputs": [
    {
     "name": "stdout",
     "output_type": "stream",
     "text": [
      "1583\n",
      "4273\n"
     ]
    }
   ],
   "source": [
    "# print(len(os.listdir(os.path.join(base_dir, 'all_data', 'NORMAL'))))\n",
    "# print(len(os.listdir(os.path.join(base_dir, 'all_data', 'PNEUMONIA'))))"
   ]
  },
  {
   "cell_type": "code",
   "execution_count": 154,
   "metadata": {},
   "outputs": [],
   "source": [
    "\n",
    "# import matplotlib.pyplot as plt\n",
    "\n",
    "# fig, ax = plt.subplots(2,5, figsize=(30,10))\n",
    "# for i in range(0,5):\n",
    "#     img = plt.imread(os.path.join(train_NORMAL_dir, train_NORMAL_fnames[i]))\n",
    "#     ax[0,i].imshow(img, cmap='gray')\n",
    "#     ax[0,i].axis('off')\n",
    "#     ax[0,i].set_title('Normal', fontsize=30)\n",
    "    \n",
    "# for i in range(0,5):\n",
    "#     img = plt.imread(os.path.join(train_PNEUMONIA_dir, train_PNEUMONIA_fnames[i]))\n",
    "#     ax[1,i].imshow(img, cmap='gray')\n",
    "#     ax[1,i].axis('off')\n",
    "#     ax[1,i].set_title('Pneumonia', fontsize=30)\n",
    "    \n",
    "# plt.show()"
   ]
  },
  {
   "cell_type": "code",
   "execution_count": 107,
   "metadata": {},
   "outputs": [],
   "source": [
    "import cv2\n",
    "import numpy as np\n",
    "from sklearn.preprocessing import OneHotEncoder\n",
    "from tensorflow.keras.models import load_model,Model\n",
    "from tensorflow.keras.optimizers import Adam\n",
    "from tensorflow.keras.layers import Dense,Input,Conv2D,Flatten,MaxPool2D\n",
    "from tensorflow.keras.preprocessing.image import ImageDataGenerator\n",
    "import glob"
   ]
  },
  {
   "cell_type": "code",
   "execution_count": 130,
   "metadata": {},
   "outputs": [],
   "source": [
    "base_dir = 'chest_xray/'\n",
    "train_dir = base_dir+'train/'\n",
    "test_dir = base_dir+'test/'\n",
    "val_dir = base_dir+'val/'\n",
    "im_size = 200\n",
    "batch_size = 32\n",
    "\n",
    "def dir_img_lab(dir):\n",
    "    #fetch all the normal xray images and labels from given directory\n",
    "    norm_img = glob.glob(dir+\"NORMAL/*.jpeg\")\n",
    "    norm_labels = np.array(['normal']*len(norm_img))\n",
    "    #fetch all the pneumonia xray images and labels from given directory\n",
    "    pnm_img = glob.glob(dir+\"PNEUMONIA/*.jpeg\")\n",
    "    pnm_labels = np.array(list(map(lambda x: x.split(\"_\")[2],pnm_img)))\n",
    "    return norm_img,norm_labels,pnm_img,pnm_labels\n",
    "#get the normal and pneumonia images for training and testing\n",
    "#and also get the labels\n",
    "trn_norm_img,trn_norm_lab,trn_pnm_img,trn_pnm_lab= dir_img_lab(train_dir)\n",
    "tst_norm_img,tst_norm_lab,tst_pnm_img,tst_pnm_lab= dir_img_lab(test_dir)\n",
    "val_norm_img,val_norm_lab,val_pnm_img,val_pnm_lab= dir_img_lab(val_dir)"
   ]
  },
  {
   "cell_type": "code",
   "execution_count": 129,
   "metadata": {},
   "outputs": [],
   "source": [
    "# val_pnm_lab"
   ]
  },
  {
   "cell_type": "code",
   "execution_count": 138,
   "metadata": {},
   "outputs": [],
   "source": [
    "def get_x(files):\n",
    "    #create a numpy array of the shape\n",
    "    #(number of images, image size , image size, 1 for grayscale channel ayer)\n",
    "    #this will be input for model\n",
    "    train_x = np.zeros((len(files), im_size, im_size,1), dtype='float32')\n",
    "    #iterate over img_file of given path\n",
    "    for i, img_file in enumerate(files):\n",
    "        #read the image file in a grayscale format and convert into numeric format\n",
    "        #resize all images to one dimension i.e. 200x200\n",
    "        img = cv2.resize(cv2.imread(img_file,cv2.IMREAD_GRAYSCALE),((im_size,im_size)))\n",
    "        #reshape array to the train_x shape\n",
    "        #1 for grayscale format\n",
    "        img_array = np.expand_dims(np.array(img[...,::-1].astype(np.float32)).copy(), axis=0)\n",
    "        train_x[i] = img_array.reshape(img_array.shape[1],img_array.shape[2],1)\n",
    "    return train_x\n",
    "#pass the normal and pneumonia images of training and testing sets\n",
    "trn_norm_x = get_x(trn_norm_img)\n",
    "trn_pnm_x = get_x(trn_pnm_img)\n",
    "tst_norm_x = get_x(tst_norm_img)\n",
    "tst_pnm_x = get_x(tst_pnm_img)\n",
    "val_norm_x = get_x(val_norm_img)\n",
    "val_pnm_x = get_x(val_pnm_img)"
   ]
  },
  {
   "cell_type": "code",
   "execution_count": 132,
   "metadata": {},
   "outputs": [
    {
     "name": "stdout",
     "output_type": "stream",
     "text": [
      "train normal array shape : (1282, 200, 200, 1)\n",
      "train pneumonia array shape : (3414, 200, 200, 1)\n",
      "\n",
      "test normal array shape : (155, 200, 200, 1)\n",
      "test pneumonia array shape : (427, 200, 200, 1)\n",
      "\n",
      "val normal array shape : (146, 200, 200, 1)\n",
      "val pneumonia array shape : (432, 200, 200, 1)\n"
     ]
    }
   ],
   "source": [
    "print(\"train normal array shape :\",trn_norm_x.shape)\n",
    "print(\"train pneumonia array shape :\",trn_pnm_x.shape)\n",
    "print(\"\\ntest normal array shape :\",tst_norm_x.shape)\n",
    "print(\"test pneumonia array shape :\",tst_pnm_x.shape)\n",
    "print(\"\\nval normal array shape :\",val_norm_x.shape)\n",
    "print(\"val pneumonia array shape :\",val_pnm_x.shape)"
   ]
  },
  {
   "cell_type": "code",
   "execution_count": 140,
   "metadata": {},
   "outputs": [],
   "source": [
    "#append pneumonia array to normal array and\n",
    "#append pneumonia labels to normal labels of training\n",
    "x_train = np.append(trn_norm_x,trn_pnm_x,axis=0)\n",
    "y_train = np.append(trn_norm_lab,trn_pnm_lab)\n",
    "#above process for testing as well\n",
    "x_test = np.append(tst_norm_x,tst_pnm_x,axis=0)\n",
    "y_test = np.append(tst_norm_lab,tst_pnm_lab)\n",
    "#above process for validation as well\n",
    "x_val = np.append(val_norm_x,val_pnm_x,axis=0)\n",
    "y_val = np.append(val_norm_lab,val_pnm_lab)\n",
    "\n",
    "encoder = OneHotEncoder(sparse=False)\n",
    "y_train_enc= encoder.fit_transform(y_train.reshape(-1,1))\n",
    "y_test_enc= encoder.fit_transform(y_test.reshape(-1,1))\n",
    "y_val_enc= encoder.fit_transform(y_val.reshape(-1,1))\n",
    "\n",
    "train_datagen = ImageDataGenerator(rotation_range=45,\n",
    "                   width_shift_range=0.2,\n",
    "                   height_shift_range=0.2,\n",
    "                   shear_range=0.2,\n",
    "                   zoom_range=0.25,\n",
    "                   horizontal_flip=True,\n",
    "                   fill_mode='nearest')\n",
    "#generate images for training sets\n",
    "train_generator = train_datagen.flow(x_train,\n",
    "                       y_train_enc,\n",
    "                       batch_size=batch_size)\n",
    "\n",
    "\n",
    "val_datagen = ImageDataGenerator(rotation_range=45,\n",
    "                   width_shift_range=0.2,\n",
    "                   height_shift_range=0.2,\n",
    "                   shear_range=0.2,\n",
    "                   zoom_range=0.25,\n",
    "                   horizontal_flip=True,\n",
    "                   fill_mode='nearest')\n",
    "#generate images for training sets\n",
    "val_generator = val_datagen.flow(x_val,\n",
    "                       y_val_enc,\n",
    "                       batch_size=batch_size)\n",
    "\n",
    "#same process for Testing sets also by declaring the instance\n",
    "test_datagen = ImageDataGenerator()\n",
    "test_generator = test_datagen.flow(x_test,\n",
    "                     y_test_enc,\n",
    "                     batch_size=batch_size)"
   ]
  },
  {
   "cell_type": "code",
   "execution_count": 150,
   "metadata": {},
   "outputs": [
    {
     "data": {
      "text/plain": [
       "(4696, 3)"
      ]
     },
     "execution_count": 150,
     "metadata": {},
     "output_type": "execute_result"
    }
   ],
   "source": [
    "# x_train.shape\n",
    "# y_train_enc.shape"
   ]
  },
  {
   "cell_type": "code",
   "execution_count": 145,
   "metadata": {},
   "outputs": [
    {
     "name": "stdout",
     "output_type": "stream",
     "text": [
      "(32, 200, 200, 1)\n"
     ]
    }
   ],
   "source": [
    "# print(train_generator[0][0].shape)\n",
    "\n",
    "# # len(trn_norm_x)+len(trn_pnm_x)"
   ]
  },
  {
   "cell_type": "code",
   "execution_count": 161,
   "metadata": {},
   "outputs": [
    {
     "name": "stdout",
     "output_type": "stream",
     "text": [
      "Epoch 1/20\n",
      "146/146 [==============================] - 178s 1s/step - loss: 0.5299 - accuracy: 0.6211 - precision: 0.6454 - recall: 0.5238 - val_loss: 0.5767 - val_accuracy: 0.4878 - val_precision: 0.5787 - val_recall: 0.3958\n",
      "Epoch 2/20\n",
      "146/146 [==============================] - 198s 1s/step - loss: 0.4640 - accuracy: 0.6694 - precision: 0.7117 - recall: 0.5864 - val_loss: 0.4897 - val_accuracy: 0.6250 - val_precision: 0.6032 - val_recall: 0.6493\n",
      "Epoch 3/20\n",
      "146/146 [==============================] - 269s 2s/step - loss: 0.4404 - accuracy: 0.6966 - precision: 0.7356 - recall: 0.6222 - val_loss: 0.4848 - val_accuracy: 0.6389 - val_precision: 0.6948 - val_recall: 0.5139\n",
      "Epoch 4/20\n",
      "146/146 [==============================] - 271s 2s/step - loss: 0.4331 - accuracy: 0.7043 - precision: 0.7324 - recall: 0.6308 - val_loss: 0.4447 - val_accuracy: 0.6892 - val_precision: 0.7282 - val_recall: 0.6094\n",
      "Epoch 5/20\n",
      "146/146 [==============================] - 271s 2s/step - loss: 0.4242 - accuracy: 0.7112 - precision: 0.7438 - recall: 0.6400 - val_loss: 0.5020 - val_accuracy: 0.6250 - val_precision: 0.6545 - val_recall: 0.5590\n",
      "Epoch 6/20\n",
      "146/146 [==============================] - 273s 2s/step - loss: 0.4130 - accuracy: 0.7256 - precision: 0.7470 - recall: 0.6591 - val_loss: 0.4361 - val_accuracy: 0.7014 - val_precision: 0.7406 - val_recall: 0.6146\n",
      "Epoch 7/20\n",
      "146/146 [==============================] - 269s 2s/step - loss: 0.4040 - accuracy: 0.7286 - precision: 0.7583 - recall: 0.6687 - val_loss: 0.4053 - val_accuracy: 0.7361 - val_precision: 0.7874 - val_recall: 0.6302\n",
      "Epoch 8/20\n",
      "146/146 [==============================] - 274s 2s/step - loss: 0.4046 - accuracy: 0.7331 - precision: 0.7543 - recall: 0.6728 - val_loss: 0.4335 - val_accuracy: 0.7049 - val_precision: 0.7397 - val_recall: 0.6215\n",
      "Epoch 9/20\n",
      "146/146 [==============================] - 277s 2s/step - loss: 0.3987 - accuracy: 0.7343 - precision: 0.7660 - recall: 0.6829 - val_loss: 0.7474 - val_accuracy: 0.4062 - val_precision: 0.4660 - val_recall: 0.3090\n",
      "Epoch 10/20\n",
      "146/146 [==============================] - 271s 2s/step - loss: 0.3878 - accuracy: 0.7399 - precision: 0.7664 - recall: 0.6852 - val_loss: 0.8212 - val_accuracy: 0.4722 - val_precision: 0.4780 - val_recall: 0.4896\n",
      "Epoch 11/20\n",
      "146/146 [==============================] - 279s 2s/step - loss: 0.3878 - accuracy: 0.7395 - precision: 0.7653 - recall: 0.6923 - val_loss: 0.3833 - val_accuracy: 0.7396 - val_precision: 0.7495 - val_recall: 0.6858\n",
      "Epoch 12/20\n",
      "146/146 [==============================] - 272s 2s/step - loss: 0.3895 - accuracy: 0.7440 - precision: 0.7688 - recall: 0.6932 - val_loss: 0.4157 - val_accuracy: 0.7170 - val_precision: 0.7945 - val_recall: 0.5972\n",
      "Epoch 13/20\n",
      "146/146 [==============================] - 275s 2s/step - loss: 0.3879 - accuracy: 0.7408 - precision: 0.7643 - recall: 0.6945 - val_loss: 1.6823 - val_accuracy: 0.2917 - val_precision: 0.2890 - val_recall: 0.2865\n",
      "Epoch 14/20\n",
      "146/146 [==============================] - 276s 2s/step - loss: 0.3845 - accuracy: 0.7352 - precision: 0.7660 - recall: 0.6900 - val_loss: 0.5230 - val_accuracy: 0.6997 - val_precision: 0.7929 - val_recall: 0.1927\n",
      "Epoch 15/20\n",
      "146/146 [==============================] - 273s 2s/step - loss: 0.3817 - accuracy: 0.7524 - precision: 0.7750 - recall: 0.7024 - val_loss: 0.4231 - val_accuracy: 0.7083 - val_precision: 0.7535 - val_recall: 0.6476\n",
      "Epoch 16/20\n",
      "146/146 [==============================] - 269s 2s/step - loss: 0.3785 - accuracy: 0.7509 - precision: 0.7738 - recall: 0.6945 - val_loss: 0.4601 - val_accuracy: 0.6753 - val_precision: 0.7149 - val_recall: 0.6181\n",
      "Epoch 17/20\n",
      "146/146 [==============================] - 264s 2s/step - loss: 0.3830 - accuracy: 0.7491 - precision: 0.7727 - recall: 0.6998 - val_loss: 0.5289 - val_accuracy: 0.6163 - val_precision: 0.6368 - val_recall: 0.5052\n",
      "Epoch 18/20\n",
      "146/146 [==============================] - 268s 2s/step - loss: 0.3772 - accuracy: 0.7509 - precision: 0.7757 - recall: 0.7028 - val_loss: 0.3887 - val_accuracy: 0.7552 - val_precision: 0.7629 - val_recall: 0.7205\n",
      "Epoch 19/20\n",
      "146/146 [==============================] - 268s 2s/step - loss: 0.3736 - accuracy: 0.7560 - precision: 0.7789 - recall: 0.7086 - val_loss: 0.6396 - val_accuracy: 0.5122 - val_precision: 0.5967 - val_recall: 0.5035\n",
      "Epoch 20/20\n",
      "146/146 [==============================] - 293s 2s/step - loss: 0.3745 - accuracy: 0.7524 - precision: 0.7746 - recall: 0.7060 - val_loss: 0.4803 - val_accuracy: 0.6545 - val_precision: 0.7040 - val_recall: 0.5781\n",
      "Model: \"X-ray_CNN\"\n",
      "_________________________________________________________________\n",
      " Layer (type)                Output Shape              Param #   \n",
      "=================================================================\n",
      " conv2d_24 (Conv2D)          (None, 198, 198, 32)      320       \n",
      "                                                                 \n",
      " batch_normalization_24 (Bat  (None, 198, 198, 32)     128       \n",
      " chNormalization)                                                \n",
      "                                                                 \n",
      " activation_24 (Activation)  (None, 198, 198, 32)      0         \n",
      "                                                                 \n",
      " max_pooling2d_24 (MaxPoolin  (None, 99, 99, 32)       0         \n",
      " g2D)                                                            \n",
      "                                                                 \n",
      " conv2d_25 (Conv2D)          (None, 97, 97, 64)        18496     \n",
      "                                                                 \n",
      " batch_normalization_25 (Bat  (None, 97, 97, 64)       256       \n",
      " chNormalization)                                                \n",
      "                                                                 \n",
      " activation_25 (Activation)  (None, 97, 97, 64)        0         \n",
      "                                                                 \n",
      " max_pooling2d_25 (MaxPoolin  (None, 48, 48, 64)       0         \n",
      " g2D)                                                            \n",
      "                                                                 \n",
      " conv2d_26 (Conv2D)          (None, 46, 46, 128)       73856     \n",
      "                                                                 \n",
      " batch_normalization_26 (Bat  (None, 46, 46, 128)      512       \n",
      " chNormalization)                                                \n",
      "                                                                 \n",
      " activation_26 (Activation)  (None, 46, 46, 128)       0         \n",
      "                                                                 \n",
      " max_pooling2d_26 (MaxPoolin  (None, 23, 23, 128)      0         \n",
      " g2D)                                                            \n",
      "                                                                 \n",
      " conv2d_27 (Conv2D)          (None, 21, 21, 128)       147584    \n",
      "                                                                 \n",
      " batch_normalization_27 (Bat  (None, 21, 21, 128)      512       \n",
      " chNormalization)                                                \n",
      "                                                                 \n",
      " activation_27 (Activation)  (None, 21, 21, 128)       0         \n",
      "                                                                 \n",
      " max_pooling2d_27 (MaxPoolin  (None, 10, 10, 128)      0         \n",
      " g2D)                                                            \n",
      "                                                                 \n",
      " flatten_6 (Flatten)         (None, 12800)             0         \n",
      "                                                                 \n",
      " dense_12 (Dense)            (None, 512)               6554112   \n",
      "                                                                 \n",
      " dense_13 (Dense)            (None, 3)                 1539      \n",
      "                                                                 \n",
      "=================================================================\n",
      "Total params: 6,797,315\n",
      "Trainable params: 6,796,611\n",
      "Non-trainable params: 704\n",
      "_________________________________________________________________\n"
     ]
    }
   ],
   "source": [
    "import tensorflow as tf\n",
    "from tensorflow.keras import layers\n",
    "\n",
    "n_train = len(trn_norm_x)+len(trn_pnm_x)\n",
    "epochs = 20\n",
    "learning_rate = 1e-3\n",
    "\n",
    "model = tf.keras.Sequential(name='X-ray_CNN')\n",
    "\n",
    "model.add(tf.keras.layers.InputLayer(input_shape=(200,200,1)))\n",
    "\n",
    "model.add(tf.keras.layers.Conv2D(filters=32, kernel_size=(3, 3)))\n",
    "model.add(tf.keras.layers.BatchNormalization())\n",
    "model.add(tf.keras.layers.Activation('relu')) # relu activation makes each value 0 if it is negative\n",
    "model.add(tf.keras.layers.MaxPool2D(pool_size=(2, 2)))\n",
    "\n",
    "model.add(tf.keras.layers.Conv2D(filters=64, kernel_size=(3, 3)))\n",
    "model.add(tf.keras.layers.BatchNormalization())\n",
    "model.add(tf.keras.layers.Activation('relu'))\n",
    "model.add(tf.keras.layers.MaxPool2D(pool_size=(2, 2)))\n",
    "\n",
    "model.add(tf.keras.layers.Conv2D(filters=128, kernel_size=(3, 3)))\n",
    "model.add(tf.keras.layers.BatchNormalization())\n",
    "model.add(tf.keras.layers.Activation('relu'))\n",
    "model.add(tf.keras.layers.MaxPool2D(pool_size=(2, 2)))\n",
    "\n",
    "model.add(tf.keras.layers.Conv2D(filters=128, kernel_size=(3, 3)))\n",
    "model.add(tf.keras.layers.BatchNormalization())\n",
    "model.add(tf.keras.layers.Activation('relu'))\n",
    "model.add(tf.keras.layers.MaxPool2D(pool_size=(2, 2)))\n",
    "\n",
    "model.add(tf.keras.layers.Flatten())\n",
    "model.add(tf.keras.layers.Dense(units=512, activation='relu'))\n",
    "model.add(tf.keras.layers.Dense(units=3, activation='sigmoid'))\n",
    "\n",
    "METRICS = ['accuracy',\n",
    "        tf.keras.metrics.Precision(name='precision'),\n",
    "        tf.keras.metrics.Recall(name='recall')]\n",
    "lr_schedule = tf.keras.optimizers.schedules.ExponentialDecay(\n",
    "    initial_learning_rate=1e-2,\n",
    "    decay_steps=10000,\n",
    "    decay_rate=0.9)\n",
    "\n",
    "model.compile(optimizer=tf.keras.optimizers.SGD(learning_rate=lr_schedule),\n",
    "              loss=tf.keras.losses.BinaryCrossentropy(),\n",
    "              metrics=METRICS)\n",
    "# history = model.fit(train_generator, \n",
    "#           steps_per_epoch= n_train//32,\n",
    "#           validation_data=val_generator,\n",
    "#           epochs=20,\n",
    "#           verbose=1)\n",
    "hist = model.fit(train_generator,\n",
    "           steps_per_epoch= x_train.shape[0] // batch_size,\n",
    "           epochs= epochs,\n",
    "           validation_data= test_generator,\n",
    "           validation_steps= x_test.shape[0] // batch_size)\n",
    "model.summary()"
   ]
  },
  {
   "cell_type": "code",
   "execution_count": 167,
   "metadata": {},
   "outputs": [
    {
     "name": "stdout",
     "output_type": "stream",
     "text": [
      "19/19 [==============================] - 9s 462ms/step\n"
     ]
    },
    {
     "data": {
      "image/png": "[encoded data removed]",
      "text/plain": [
       "<Figure size 800x800 with 2 Axes>"
      ]
     },
     "metadata": {},
     "output_type": "display_data"
    }
   ],
   "source": [
    "import seaborn as sns\n",
    "labels = ['bacteria','normal','virus']\n",
    "#confusion matrix\n",
    "y_pred = model.predict(x_test)\n",
    "#transforming label back to original\n",
    "y_pred = encoder.inverse_transform(y_pred)\n",
    "#matrix of Actual vs Prediction data\n",
    "c_matrix = confusion_matrix(y_test, y_pred)\n",
    "plt.figure(figsize=(8,8))\n",
    "plt.title('Confusion matrix',fontsize=14)\n",
    "sns.heatmap(\n",
    "  c_matrix, xticklabels=labels,yticklabels=labels,\n",
    "  fmt='d', annot=True,annot_kws={\"size\": 14}, cmap='Reds')\n",
    "plt.xlabel(\"Predicted\",fontsize=12)\n",
    "plt.ylabel(\"Actual\",fontsize=12)\n",
    "plt.show()"
   ]
  },
  {
   "cell_type": "code",
   "execution_count": null,
   "metadata": {},
   "outputs": [],
   "source": []
  },
  {
   "cell_type": "code",
   "execution_count": null,
   "metadata": {},
   "outputs": [],
   "source": []
  },
  {
   "cell_type": "code",
   "execution_count": null,
   "metadata": {},
   "outputs": [],
   "source": []
  },
  {
   "cell_type": "code",
   "execution_count": 155,
   "metadata": {},
   "outputs": [],
   "source": [
    "# from tensorflow.keras.preprocessing.image import ImageDataGenerator\n",
    "\n",
    "# train_datagen = ImageDataGenerator(rescale = 1.0/255,\n",
    "#                                    samplewise_center=True,\n",
    "#                                    samplewise_std_normalization=True,\n",
    "#                                    zoom_range = 0.2, \n",
    "#                                    width_shift_range=0.1,  \n",
    "#                                    height_shift_range=0.1)\n",
    "\n",
    "# validation_datagen  = ImageDataGenerator(rescale = 1.0/255,\n",
    "#                                          samplewise_center=True,\n",
    "#                                          samplewise_std_normalization=True,\n",
    "#                                          zoom_range = 0.2, \n",
    "#                                          width_shift_range=0.1,  \n",
    "#                                          height_shift_range=0.1)\n",
    "\n",
    "# test_datagen  = ImageDataGenerator(rescale = 1.0/255,\n",
    "#                                     samplewise_center=True,\n",
    "#                                     samplewise_std_normalization=True)\n",
    "\n",
    "# train_generator = train_datagen.flow_from_directory(train_dir,\n",
    "#                                                     batch_size=16,\n",
    "#                                                     class_mode='binary',\n",
    "#                                                     target_size=(160, 160))\n",
    "\n",
    "# validation_generator = validation_datagen.flow_from_directory(validation_dir,\n",
    "#                                                               batch_size=16,\n",
    "#                                                               class_mode='binary',\n",
    "#                                                               target_size=(160, 160))\n",
    "\n",
    "# test_generator = test_datagen.flow_from_directory(test_dir,\n",
    "#                                                   class_mode='binary',\n",
    "#                                                   target_size=(160, 160))"
   ]
  },
  {
   "cell_type": "code",
   "execution_count": 156,
   "metadata": {},
   "outputs": [],
   "source": [
    "# import tensorflow as tf\n",
    "# from tensorflow.keras import layers\n",
    "\n",
    "# model = tf.keras.Sequential(name='X-ray_CNN')\n",
    "\n",
    "# model.add(tf.keras.layers.InputLayer(input_shape=(160,160,3)))\n",
    "\n",
    "# model.add(tf.keras.layers.Conv2D(filters=32, kernel_size=(3, 3)))\n",
    "# model.add(tf.keras.layers.BatchNormalization())\n",
    "# model.add(tf.keras.layers.Activation('relu')) # relu activation makes each value 0 if it is negative\n",
    "# model.add(tf.keras.layers.MaxPool2D(pool_size=(2, 2)))\n",
    "\n",
    "# model.add(tf.keras.layers.Conv2D(filters=64, kernel_size=(3, 3)))\n",
    "# model.add(tf.keras.layers.BatchNormalization())\n",
    "# model.add(tf.keras.layers.Activation('relu'))\n",
    "# model.add(tf.keras.layers.MaxPool2D(pool_size=(2, 2)))\n",
    "\n",
    "# model.add(tf.keras.layers.Conv2D(filters=128, kernel_size=(3, 3)))\n",
    "# model.add(tf.keras.layers.BatchNormalization())\n",
    "# model.add(tf.keras.layers.Activation('relu'))\n",
    "# model.add(tf.keras.layers.MaxPool2D(pool_size=(2, 2)))\n",
    "\n",
    "# model.add(tf.keras.layers.Conv2D(filters=128, kernel_size=(3, 3)))\n",
    "# model.add(tf.keras.layers.BatchNormalization())\n",
    "# model.add(tf.keras.layers.Activation('relu'))\n",
    "# model.add(tf.keras.layers.MaxPool2D(pool_size=(2, 2)))\n",
    "\n",
    "# model.add(tf.keras.layers.Flatten())\n",
    "# model.add(tf.keras.layers.Dense(units=512, activation='relu'))\n",
    "# model.add(tf.keras.layers.Dense(units=1, activation='sigmoid'))\n",
    "\n",
    "# METRICS = ['accuracy',\n",
    "#         tf.keras.metrics.Precision(name='precision'),\n",
    "#         tf.keras.metrics.Recall(name='recall')]\n",
    "# lr_schedule = tf.keras.optimizers.schedules.ExponentialDecay(\n",
    "#     initial_learning_rate=1e-2,\n",
    "#     decay_steps=10000,\n",
    "#     decay_rate=0.9)\n",
    "# model.compile(optimizer=tf.keras.optimizers.SGD(learning_rate=lr_schedule),\n",
    "#               loss=tf.keras.losses.BinaryCrossentropy(),\n",
    "#               metrics=METRICS)\n",
    "# history = model.fit(train_generator, \n",
    "#           steps_per_epoch= n_train//16,\n",
    "#           validation_data=validation_generator,\n",
    "#           epochs=20,\n",
    "#           verbose=1)\n",
    "# model.summary()"
   ]
  },
  {
   "cell_type": "code",
   "execution_count": 163,
   "metadata": {},
   "outputs": [
    {
     "name": "stderr",
     "output_type": "stream",
     "text": [
      "WARNING:absl:Found untraced functions such as _jit_compiled_convolution_op, _jit_compiled_convolution_op, _jit_compiled_convolution_op, _jit_compiled_convolution_op while saving (showing 4 of 4). These functions will not be directly callable after loading.\n"
     ]
    },
    {
     "name": "stdout",
     "output_type": "stream",
     "text": [
      "INFO:tensorflow:Assets written to: xraymodel_tertiary_20221130_120158\\assets\n"
     ]
    },
    {
     "name": "stderr",
     "output_type": "stream",
     "text": [
      "INFO:tensorflow:Assets written to: xraymodel_tertiary_20221130_120158\\assets\n"
     ]
    }
   ],
   "source": [
    "import datetime\n",
    "model.save('xraymodel_tertiary_'+str(datetime.datetime.now().strftime(\"%Y%m%d_%H%M%S\")))"
   ]
  },
  {
   "cell_type": "code",
   "execution_count": null,
   "metadata": {},
   "outputs": [],
   "source": [
    "# import tensorflow as tf\n",
    "# model = tf.keras.models.load_model('second_model')"
   ]
  },
  {
   "cell_type": "code",
   "execution_count": 160,
   "metadata": {},
   "outputs": [
    {
     "name": "stdout",
     "output_type": "stream",
     "text": [
      "576\n",
      "19/19 [==============================] - 5s 264ms/step\n"
     ]
    },
    {
     "ename": "ValueError",
     "evalue": "cannot reshape array of size 1746 into shape (582,)",
     "output_type": "error",
     "traceback": [
      "\u001b[1;31m---------------------------------------------------------------------------\u001b[0m",
      "\u001b[1;31mValueError\u001b[0m                                Traceback (most recent call last)",
      "Cell \u001b[1;32mIn [160], line 25\u001b[0m\n\u001b[0;32m     22\u001b[0m     plt\u001b[38;5;241m.\u001b[39mtitle(title, fontsize\u001b[38;5;241m=\u001b[39m\u001b[38;5;241m20\u001b[39m)\n\u001b[0;32m     23\u001b[0m     \u001b[38;5;28;01mreturn\u001b[39;00m plt\u001b[38;5;241m.\u001b[39mshow()\n\u001b[1;32m---> 25\u001b[0m \u001b[43mplot_confusion\u001b[49m\u001b[43m(\u001b[49m\u001b[43mn_test\u001b[49m\u001b[43m,\u001b[49m\u001b[43m \u001b[49m\u001b[43mtest_generator\u001b[49m\u001b[43m,\u001b[49m\u001b[43m \u001b[49m\u001b[38;5;124;43m'\u001b[39;49m\u001b[38;5;124;43mTest set\u001b[39;49m\u001b[38;5;124;43m'\u001b[39;49m\u001b[43m,\u001b[49m\u001b[43m \u001b[49m\u001b[43mbatch_size\u001b[49m\u001b[43m)\u001b[49m\n\u001b[0;32m     26\u001b[0m plot_confusion(n_train, train_generator, \u001b[38;5;124m'\u001b[39m\u001b[38;5;124mTraining set\u001b[39m\u001b[38;5;124m'\u001b[39m, \u001b[38;5;241m16\u001b[39m)\n\u001b[0;32m     27\u001b[0m plot_confusion(n_validation, validation_generator, \u001b[38;5;124m'\u001b[39m\u001b[38;5;124mValidation set\u001b[39m\u001b[38;5;124m'\u001b[39m, \u001b[38;5;241m16\u001b[39m)\n",
      "Cell \u001b[1;32mIn [160], line 15\u001b[0m, in \u001b[0;36mplot_confusion\u001b[1;34m(n, generator, title, batch_size)\u001b[0m\n\u001b[0;32m     13\u001b[0m \u001b[38;5;66;03m# preds = model.predict_classes(generator)\u001b[39;00m\n\u001b[0;32m     14\u001b[0m preds \u001b[38;5;241m=\u001b[39m (model\u001b[38;5;241m.\u001b[39mpredict(generator) \u001b[38;5;241m>\u001b[39m \u001b[38;5;241m0.5\u001b[39m)\u001b[38;5;241m.\u001b[39mastype(\u001b[38;5;124m\"\u001b[39m\u001b[38;5;124mint32\u001b[39m\u001b[38;5;124m\"\u001b[39m)\n\u001b[1;32m---> 15\u001b[0m preds \u001b[38;5;241m=\u001b[39m \u001b[43mnp\u001b[49m\u001b[38;5;241;43m.\u001b[39;49m\u001b[43mreshape\u001b[49m\u001b[43m(\u001b[49m\u001b[43mpreds\u001b[49m\u001b[43m,\u001b[49m\u001b[43m \u001b[49m\u001b[43mn\u001b[49m\u001b[43m)\u001b[49m\n\u001b[0;32m     17\u001b[0m cm  \u001b[38;5;241m=\u001b[39m confusion_matrix(labels, preds[:\u001b[38;5;28mlen\u001b[39m(labels)])\n\u001b[0;32m     18\u001b[0m plt\u001b[38;5;241m.\u001b[39mfigure()\n",
      "File \u001b[1;32m<__array_function__ internals>:180\u001b[0m, in \u001b[0;36mreshape\u001b[1;34m(*args, **kwargs)\u001b[0m\n",
      "File \u001b[1;32m~\\AppData\\Local\\Packages\\PythonSoftwareFoundation.Python.3.10_qbz5n2kfra8p0\\LocalCache\\local-packages\\Python310\\site-packages\\numpy\\core\\fromnumeric.py:298\u001b[0m, in \u001b[0;36mreshape\u001b[1;34m(a, newshape, order)\u001b[0m\n\u001b[0;32m    198\u001b[0m \u001b[39m@array_function_dispatch\u001b[39m(_reshape_dispatcher)\n\u001b[0;32m    199\u001b[0m \u001b[39mdef\u001b[39;00m \u001b[39mreshape\u001b[39m(a, newshape, order\u001b[39m=\u001b[39m\u001b[39m'\u001b[39m\u001b[39mC\u001b[39m\u001b[39m'\u001b[39m):\n\u001b[0;32m    200\u001b[0m     \u001b[39m\"\"\"\u001b[39;00m\n\u001b[0;32m    201\u001b[0m \u001b[39m    Gives a new shape to an array without changing its data.\u001b[39;00m\n\u001b[0;32m    202\u001b[0m \n\u001b[1;32m   (...)\u001b[0m\n\u001b[0;32m    296\u001b[0m \u001b[39m           [5, 6]])\u001b[39;00m\n\u001b[0;32m    297\u001b[0m \u001b[39m    \"\"\"\u001b[39;00m\n\u001b[1;32m--> 298\u001b[0m     \u001b[39mreturn\u001b[39;00m _wrapfunc(a, \u001b[39m'\u001b[39;49m\u001b[39mreshape\u001b[39;49m\u001b[39m'\u001b[39;49m, newshape, order\u001b[39m=\u001b[39;49morder)\n",
      "File \u001b[1;32m~\\AppData\\Local\\Packages\\PythonSoftwareFoundation.Python.3.10_qbz5n2kfra8p0\\LocalCache\\local-packages\\Python310\\site-packages\\numpy\\core\\fromnumeric.py:57\u001b[0m, in \u001b[0;36m_wrapfunc\u001b[1;34m(obj, method, *args, **kwds)\u001b[0m\n\u001b[0;32m     54\u001b[0m     \u001b[39mreturn\u001b[39;00m _wrapit(obj, method, \u001b[39m*\u001b[39margs, \u001b[39m*\u001b[39m\u001b[39m*\u001b[39mkwds)\n\u001b[0;32m     56\u001b[0m \u001b[39mtry\u001b[39;00m:\n\u001b[1;32m---> 57\u001b[0m     \u001b[39mreturn\u001b[39;00m bound(\u001b[39m*\u001b[39margs, \u001b[39m*\u001b[39m\u001b[39m*\u001b[39mkwds)\n\u001b[0;32m     58\u001b[0m \u001b[39mexcept\u001b[39;00m \u001b[39mTypeError\u001b[39;00m:\n\u001b[0;32m     59\u001b[0m     \u001b[39m# A TypeError occurs if the object does have such a method in its\u001b[39;00m\n\u001b[0;32m     60\u001b[0m     \u001b[39m# class, but its signature is not identical to that of NumPy's. This\u001b[39;00m\n\u001b[1;32m   (...)\u001b[0m\n\u001b[0;32m     64\u001b[0m     \u001b[39m# Call _wrapit from within the except clause to ensure a potential\u001b[39;00m\n\u001b[0;32m     65\u001b[0m     \u001b[39m# exception has a traceback chain.\u001b[39;00m\n\u001b[0;32m     66\u001b[0m     \u001b[39mreturn\u001b[39;00m _wrapit(obj, method, \u001b[39m*\u001b[39margs, \u001b[39m*\u001b[39m\u001b[39m*\u001b[39mkwds)\n",
      "\u001b[1;31mValueError\u001b[0m: cannot reshape array of size 1746 into shape (582,)"
     ]
    }
   ],
   "source": [
    "from sklearn.metrics import confusion_matrix\n",
    "from mlxtend.plotting import plot_confusion_matrix\n",
    "import numpy as np\n",
    "import matplotlib.pyplot as plt\n",
    "\n",
    "def plot_confusion(n, generator, title, batch_size):\n",
    "    labels = []\n",
    "    for i in range(0, n//batch_size):\n",
    "        # print(i)\n",
    "        labels.extend(generator[i][1])\n",
    "    labels = np.array(labels)\n",
    "    print(len(labels))\n",
    "    # preds = model.predict_classes(generator)\n",
    "    preds = (model.predict(generator) > 0.5).astype(\"int32\")\n",
    "    preds = np.reshape(preds, n)\n",
    "\n",
    "    cm  = confusion_matrix(labels, preds[:len(labels)])\n",
    "    plt.figure()\n",
    "    plot_confusion_matrix(cm,figsize=(12,8), hide_ticks=False,cmap=plt.cm.Blues)\n",
    "    plt.xticks(range(2), ['Normal', 'Pneumonia'], fontsize=16)\n",
    "    plt.yticks(range(2), ['Normal', 'Pneumonia'], fontsize=16)\n",
    "    plt.title(title, fontsize=20)\n",
    "    return plt.show()\n",
    "\n",
    "plot_confusion(n_test, test_generator, 'Test set', batch_size)\n",
    "plot_confusion(n_train, train_generator, 'Training set', 16)\n",
    "plot_confusion(n_validation, validation_generator, 'Validation set', 16)\n",
    "\n",
    "# 0.973958 accuracy for test"
   ]
  }
 ],
 "metadata": {
  "kernelspec": {
   "display_name": "Python 3.10.7 64-bit (microsoft store)",
   "language": "python",
   "name": "python3"
  },
  "language_info": {
   "codemirror_mode": {
    "name": "ipython",
    "version": 3
   },
   "file_extension": ".py",
   "mimetype": "text/x-python",
   "name": "python",
   "nbconvert_exporter": "python",
   "pygments_lexer": "ipython3",
   "version": "3.10.8"
  },
  "orig_nbformat": 4,
  "vscode": {
   "interpreter": {
    "hash": "fc7e758b011b8546c2d8d6136d2d13627abe8c022b73c6b30824a33af506f0a4"
   }
  }
 },
 "nbformat": 4,
 "nbformat_minor": 2
}
